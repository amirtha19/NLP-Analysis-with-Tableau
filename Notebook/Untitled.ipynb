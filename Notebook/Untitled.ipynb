{
 "cells": [
  {
   "cell_type": "code",
   "execution_count": 2,
   "id": "0665e362",
   "metadata": {},
   "outputs": [
    {
     "name": "stdout",
     "output_type": "stream",
     "text": [
      "Collecting twint\n",
      "  Downloading twint-2.1.20.tar.gz (31 kB)\n",
      "  Preparing metadata (setup.py): started\n",
      "  Preparing metadata (setup.py): finished with status 'done'\n",
      "Collecting aiohttp\n",
      "  Using cached aiohttp-3.8.4-cp310-cp310-win_amd64.whl (319 kB)\n",
      "Collecting aiodns\n",
      "  Using cached aiodns-3.0.0-py3-none-any.whl (5.0 kB)\n",
      "Requirement already satisfied: beautifulsoup4 in c:\\users\\amirt\\onedrive\\documents\\projects\\nlp---visuavalisation\\nlppr\\lib\\site-packages (from twint) (4.12.2)\n",
      "Collecting cchardet\n",
      "  Using cached cchardet-2.1.7-cp310-cp310-win_amd64.whl\n",
      "Collecting elasticsearch\n",
      "  Using cached elasticsearch-8.8.0-py3-none-any.whl (393 kB)\n",
      "Collecting pysocks\n",
      "  Using cached PySocks-1.7.1-py3-none-any.whl (16 kB)\n",
      "Collecting pandas\n",
      "  Using cached pandas-2.0.2-cp310-cp310-win_amd64.whl (10.7 MB)\n",
      "Collecting aiohttp_socks\n",
      "  Using cached aiohttp_socks-0.8.0-py3-none-any.whl (9.4 kB)\n",
      "Collecting schedule\n",
      "  Using cached schedule-1.2.0-py2.py3-none-any.whl (11 kB)\n",
      "Collecting geopy\n",
      "  Using cached geopy-2.3.0-py3-none-any.whl (119 kB)\n",
      "Collecting fake-useragent\n",
      "  Using cached fake_useragent-1.1.3-py3-none-any.whl (50 kB)\n",
      "Collecting googletransx\n",
      "  Using cached googletransx-2.4.2-py3-none-any.whl\n",
      "Collecting pycares>=4.0.0\n",
      "  Using cached pycares-4.3.0-cp310-cp310-win_amd64.whl (76 kB)\n",
      "Requirement already satisfied: attrs>=17.3.0 in c:\\users\\amirt\\onedrive\\documents\\projects\\nlp---visuavalisation\\nlppr\\lib\\site-packages (from aiohttp->twint) (22.1.0)\n",
      "Collecting yarl<2.0,>=1.0\n",
      "  Using cached yarl-1.9.2-cp310-cp310-win_amd64.whl (61 kB)\n",
      "Collecting async-timeout<5.0,>=4.0.0a3\n",
      "  Using cached async_timeout-4.0.2-py3-none-any.whl (5.8 kB)\n",
      "Collecting frozenlist>=1.1.1\n",
      "  Using cached frozenlist-1.3.3-cp310-cp310-win_amd64.whl (33 kB)\n",
      "Collecting aiosignal>=1.1.2\n",
      "  Using cached aiosignal-1.3.1-py3-none-any.whl (7.6 kB)\n",
      "Collecting multidict<7.0,>=4.5\n",
      "  Using cached multidict-6.0.4-cp310-cp310-win_amd64.whl (28 kB)\n",
      "Requirement already satisfied: charset-normalizer<4.0,>=2.0 in c:\\users\\amirt\\onedrive\\documents\\projects\\nlp---visuavalisation\\nlppr\\lib\\site-packages (from aiohttp->twint) (3.1.0)\n",
      "Collecting python-socks[asyncio]<3.0.0,>=2.0.0\n",
      "  Using cached python_socks-2.3.0-py3-none-any.whl (53 kB)\n",
      "Requirement already satisfied: soupsieve>1.2 in c:\\users\\amirt\\onedrive\\documents\\projects\\nlp---visuavalisation\\nlppr\\lib\\site-packages (from beautifulsoup4->twint) (2.4.1)\n",
      "Collecting elastic-transport<9,>=8\n",
      "  Using cached elastic_transport-8.4.0-py3-none-any.whl (59 kB)\n",
      "Collecting geographiclib<3,>=1.52\n",
      "  Using cached geographiclib-2.0-py3-none-any.whl (40 kB)\n",
      "Requirement already satisfied: requests in c:\\users\\amirt\\onedrive\\documents\\projects\\nlp---visuavalisation\\nlppr\\lib\\site-packages (from googletransx->twint) (2.31.0)\n",
      "Collecting numpy>=1.21.0\n",
      "  Using cached numpy-1.24.3-cp310-cp310-win_amd64.whl (14.8 MB)\n",
      "Requirement already satisfied: python-dateutil>=2.8.2 in c:\\users\\amirt\\onedrive\\documents\\projects\\nlp---visuavalisation\\nlppr\\lib\\site-packages (from pandas->twint) (2.8.2)\n",
      "Collecting tzdata>=2022.1\n",
      "  Using cached tzdata-2023.3-py2.py3-none-any.whl (341 kB)\n",
      "Collecting pytz>=2020.1\n",
      "  Using cached pytz-2023.3-py2.py3-none-any.whl (502 kB)\n",
      "Requirement already satisfied: certifi in c:\\users\\amirt\\onedrive\\documents\\projects\\nlp---visuavalisation\\nlppr\\lib\\site-packages (from elastic-transport<9,>=8->elasticsearch->twint) (2023.5.7)\n",
      "Collecting urllib3<2,>=1.26.2\n",
      "  Using cached urllib3-1.26.16-py2.py3-none-any.whl (143 kB)\n",
      "Requirement already satisfied: cffi>=1.5.0 in c:\\users\\amirt\\onedrive\\documents\\projects\\nlp---visuavalisation\\nlppr\\lib\\site-packages (from pycares>=4.0.0->aiodns->twint) (1.15.1)\n",
      "Requirement already satisfied: six>=1.5 in c:\\users\\amirt\\onedrive\\documents\\projects\\nlp---visuavalisation\\nlppr\\lib\\site-packages (from python-dateutil>=2.8.2->pandas->twint) (1.16.0)\n",
      "Requirement already satisfied: idna>=2.0 in c:\\users\\amirt\\onedrive\\documents\\projects\\nlp---visuavalisation\\nlppr\\lib\\site-packages (from yarl<2.0,>=1.0->aiohttp->twint) (3.4)\n",
      "Requirement already satisfied: pycparser in c:\\users\\amirt\\onedrive\\documents\\projects\\nlp---visuavalisation\\nlppr\\lib\\site-packages (from cffi>=1.5.0->pycares>=4.0.0->aiodns->twint) (2.21)\n",
      "Building wheels for collected packages: twint\n",
      "  Building wheel for twint (setup.py): started\n",
      "  Building wheel for twint (setup.py): finished with status 'done'\n",
      "  Created wheel for twint: filename=twint-2.1.20-py3-none-any.whl size=33944 sha256=460d2ebb98a708752ab1ddf8b01198fdaed4f1368d305034e1f6aaac7af9aed7\n",
      "  Stored in directory: c:\\users\\amirt\\appdata\\local\\pip\\cache\\wheels\\48\\d2\\f5\\7a71ea8b6788b85fac82abf4ef84dac03562571f695c3b8f77\n",
      "Successfully built twint\n",
      "Installing collected packages: pytz, python-socks, fake-useragent, cchardet, urllib3, tzdata, schedule, pysocks, numpy, multidict, geographiclib, frozenlist, async-timeout, yarl, pycares, pandas, geopy, elastic-transport, aiosignal, googletransx, elasticsearch, aiohttp, aiodns, aiohttp_socks, twint\n",
      "  Attempting uninstall: urllib3\n",
      "    Found existing installation: urllib3 2.0.2\n",
      "    Uninstalling urllib3-2.0.2:\n",
      "      Successfully uninstalled urllib3-2.0.2\n",
      "Successfully installed aiodns-3.0.0 aiohttp-3.8.4 aiohttp_socks-0.8.0 aiosignal-1.3.1 async-timeout-4.0.2 cchardet-2.1.7 elastic-transport-8.4.0 elasticsearch-8.8.0 fake-useragent-1.1.3 frozenlist-1.3.3 geographiclib-2.0 geopy-2.3.0 googletransx-2.4.2 multidict-6.0.4 numpy-1.24.3 pandas-2.0.2 pycares-4.3.0 pysocks-1.7.1 python-socks-2.3.0 pytz-2023.3 schedule-1.2.0 twint-2.1.20 tzdata-2023.3 urllib3-1.26.16 yarl-1.9.2\n"
     ]
    }
   ],
   "source": [
    "!pip3 install twint"
   ]
  },
  {
   "cell_type": "code",
   "execution_count": null,
   "id": "4c464684",
   "metadata": {},
   "outputs": [],
   "source": []
  }
 ],
 "metadata": {
  "kernelspec": {
   "display_name": "nlppr",
   "language": "python",
   "name": "myenv"
  },
  "language_info": {
   "codemirror_mode": {
    "name": "ipython",
    "version": 3
   },
   "file_extension": ".py",
   "mimetype": "text/x-python",
   "name": "python",
   "nbconvert_exporter": "python",
   "pygments_lexer": "ipython3",
   "version": "3.10.11"
  }
 },
 "nbformat": 4,
 "nbformat_minor": 5
}
